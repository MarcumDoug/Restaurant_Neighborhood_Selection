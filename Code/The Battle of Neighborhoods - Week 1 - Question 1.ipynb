{
 "cells": [
  {
   "cell_type": "markdown",
   "metadata": {},
   "source": [
    "# The Battle of the Neighborhoods - Week 1\n",
    "\n",
    "## 1) Introduction/Business Problem\n",
    "\n",
    "The basis of this study is to help a small group of investors planning to open their first  U.S. based brewery / restaurant expansion in Toronto. They are interested in building in an area that meets the following criteria:\n",
    "\n",
    "* A neighborhood with an average to above average total population\n",
    "* Above average populations of 25-40 year old male and female professionals\n",
    "* A high concentration of the population having secondary education\n",
    "* Average to above average median net household incomes\n",
    "\n",
    "The objective is to locate and recommend to the investors, the target audience, which neighborhood(s) of Toronto will be the best choice to start their international growth plan. The information gained will assist in chosing the right location by providing data about the population of each neighborhood, in addition to other established venues present in these areas.\n",
    "\n",
    "Additionally, this information could be of interest to other potential investors looking to open a new restaurant in Toronto. "
   ]
  },
  {
   "cell_type": "code",
   "execution_count": null,
   "metadata": {},
   "outputs": [],
   "source": []
  }
 ],
 "metadata": {
  "kernelspec": {
   "display_name": "Python 3",
   "language": "python",
   "name": "python3"
  },
  "language_info": {
   "codemirror_mode": {
    "name": "ipython",
    "version": 3
   },
   "file_extension": ".py",
   "mimetype": "text/x-python",
   "name": "python",
   "nbconvert_exporter": "python",
   "pygments_lexer": "ipython3",
   "version": "3.7.1"
  }
 },
 "nbformat": 4,
 "nbformat_minor": 2
}
