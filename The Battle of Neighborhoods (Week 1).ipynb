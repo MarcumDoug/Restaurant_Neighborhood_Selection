{
    "nbformat_minor": 1, 
    "cells": [
        {
            "source": "# Peer-graded Assignment: Capstone Project - The Battle of Neighborhoods (Week 1)", 
            "cell_type": "markdown", 
            "metadata": {}
        }, 
        {
            "source": "# 1) Introduction/Business Problem\n\nThe basis of this study is to help a small group of investors planning to open a new grocery in Toronto. They are interested in building in an area that have been neglected or underserviced, thus creating a food desert for members of that community. Food deserts are defined by the USDA as parts of the country vapid of fresh fruit, vegetables, and other healthful whole foods, usually found in impoverished areas. This is largely due to a lack of grocery stores, farmers\u2019 markets, and healthy food providers. The information gained will assist in chosing the right location by providing data about the income and population of each neighborhood, in addition to lack of groceries present in these areas. While the endeavor is designed to bring a resource to a forgotten neighborhood, the project must be sustatinable for years to come.", 
            "cell_type": "markdown", 
            "metadata": {
                "collapsed": true
            }
        }, 
        {
            "source": "# 2) Data\nThe necessary information needed by the investing group will come from the following sources:\n\n* __[City of Toronto Neighborhood Profiles](https://www.toronto.ca/city-government/data-research-maps/neighbourhoods-communities/neighbourhood-profiles/)__ for providing an overview of the neighborhoods in Toronto\n* __[City of Toronto Open Data Catalogue](https://www.toronto.ca/city-government/data-research-maps/open-data/open-data-catalogue/#8c732154-5012-9afe-d0cd-ba3ffc813d5a)__ : __[Downloadable City of Toronto Census CSV File](https://www.toronto.ca/ext/open_data/catalog/data_set_files/2016_neighbourhood_profiles.csv)__ \n* __[Neighborhoods of Toronto shape file](https://www.toronto.ca/city-government/data-research-maps/open-data/open-data-catalogue/#a45bd45a-ede8-730e-1abc-93105b2c439f)__ for mapping\n* __[Foursquare API](https://developer.foursquare.com/)__ to collect information on areas lacking proper access to proper food sources\n* __[American Nutrition Association](http://americannutritionassociation.org/newsletter/usda-defines-food-deserts)__ for defining food deserts\n\nThe Census of Population is held across Canada every five years and collects data about age and sex, families and households, language, immigration and internal migration, ethnocultural diversity, Aboriginal peoples, housing, education, income, and labour.  City of Toronto Neighborhood Profiles use this Census data to provide a portrait of the demographic, social and economic characteristics of the people and households in each City of Toronto neighborhood. The profiles present selected highlights from the data, but these accompanying data files provide the full data set assembled for each neighborhood.\n\nTo assess the neighborhoods and provide guidance to the investors, we will be utilizing the data from the 2016 Toronto Census, the shapefile to define our neighborhoods, and the Foursquare API to collect information on areas lacking proper access to proper food sources.", 
            "cell_type": "markdown", 
            "metadata": {}
        }, 
        {
            "source": "### __Import and install the necessary libaries and tools__", 
            "cell_type": "markdown", 
            "metadata": {}
        }, 
        {
            "source": "import numpy as np \nimport pandas as pd \n\n!conda install -c conda-forge geopy --yes \nfrom geopy.geocoders import Nominatim # convert an address into latitude and longitude values\n\n!conda install -c conda-forge folium=0.5.0 --yes \nimport folium # map rendering library\n\nprint('Libraries imported and loaded.')", 
            "cell_type": "code", 
            "metadata": {
                "scrolled": false
            }, 
            "outputs": [
                {
                    "output_type": "stream", 
                    "name": "stdout", 
                    "text": "Solving environment: done\n\n## Package Plan ##\n\n  environment location: /opt/conda/envs/DSX-Python35\n\n  added / updated specs: \n    - geopy\n\n\nThe following packages will be downloaded:\n\n    package                    |            build\n    ---------------------------|-----------------\n    openssl-1.0.2r             |       h14c3975_0         3.1 MB  conda-forge\n    ca-certificates-2019.3.9   |       hecc5488_0         146 KB  conda-forge\n    certifi-2018.8.24          |        py35_1001         139 KB  conda-forge\n    geographiclib-1.49         |             py_0          32 KB  conda-forge\n    geopy-1.19.0               |             py_0          53 KB  conda-forge\n    ------------------------------------------------------------\n                                           Total:         3.5 MB\n\nThe following NEW packages will be INSTALLED:\n\n    geographiclib:   1.49-py_0         conda-forge\n    geopy:           1.19.0-py_0       conda-forge\n\nThe following packages will be UPDATED:\n\n    ca-certificates: 2019.1.23-0                   --> 2019.3.9-hecc5488_0 conda-forge\n    certifi:         2018.8.24-py35_1              --> 2018.8.24-py35_1001 conda-forge\n    openssl:         1.0.2r-h7b6447c_0             --> 1.0.2r-h14c3975_0   conda-forge\n\n\nDownloading and Extracting Packages\nopenssl-1.0.2r       | 3.1 MB    | ##################################### | 100% \nca-certificates-2019 | 146 KB    | ##################################### | 100% \ncertifi-2018.8.24    | 139 KB    | ##################################### | 100% \ngeographiclib-1.49   | 32 KB     | ##################################### | 100% \ngeopy-1.19.0         | 53 KB     | ##################################### | 100% \nPreparing transaction: done\nVerifying transaction: done\nExecuting transaction: done\nSolving environment: done\n\n## Package Plan ##\n\n  environment location: /opt/conda/envs/DSX-Python35\n\n  added / updated specs: \n    - folium=0.5.0\n\n\nThe following packages will be downloaded:\n\n    package                    |            build\n    ---------------------------|-----------------\n    folium-0.5.0               |             py_0          45 KB  conda-forge\n    vincent-0.4.4              |             py_1          28 KB  conda-forge\n    altair-2.2.2               |           py35_1         462 KB  conda-forge\n    branca-0.3.1               |             py_0          25 KB  conda-forge\n    ------------------------------------------------------------\n                                           Total:         560 KB\n\nThe following NEW packages will be INSTALLED:\n\n    altair:  2.2.2-py35_1 conda-forge\n    branca:  0.3.1-py_0   conda-forge\n    folium:  0.5.0-py_0   conda-forge\n    vincent: 0.4.4-py_1   conda-forge\n\n\nDownloading and Extracting Packages\nfolium-0.5.0         | 45 KB     | ##################################### | 100% \nvincent-0.4.4        | 28 KB     | ##################################### | 100% \naltair-2.2.2         | 462 KB    | ##################################### | 100% \nbranca-0.3.1         | 25 KB     | ##################################### | 100% \nPreparing transaction: done\nVerifying transaction: done\nExecuting transaction: done\nLibraries imported and loaded.\n"
                }
            ], 
            "execution_count": 1
        }, 
        {
            "source": "### __Pull in the data file and create a dataframe__", 
            "cell_type": "markdown", 
            "metadata": {}
        }, 
        {
            "source": "# Toronto Open Data Catalogue - Neighbourhood Profiles 2016 (CSV)\n\npath = 'https://www.toronto.ca/ext/open_data/catalog/data_set_files/2016_neighbourhood_profiles.csv'\ndf = pd.read_csv(path,encoding='latin1')\ndf.head()", 
            "cell_type": "code", 
            "metadata": {}, 
            "outputs": [
                {
                    "output_type": "execute_result", 
                    "data": {
                        "text/plain": "                    Category                      Topic  \\\n0  Neighbourhood Information  Neighbourhood Information   \n1  Neighbourhood Information  Neighbourhood Information   \n2                 Population   Population and dwellings   \n3                 Population   Population and dwellings   \n4                 Population   Population and dwellings   \n\n                      Data Source               Characteristic  \\\n0                 City of Toronto         Neighbourhood Number   \n1                 City of Toronto         TSNS2020 Designation   \n2  Census Profile 98-316-X2016001             Population, 2016   \n3  Census Profile 98-316-X2016001             Population, 2011   \n4  Census Profile 98-316-X2016001  Population Change 2011-2016   \n\n  City of Toronto Agincourt North Agincourt South-Malvern West  \\\n0             NaN             129                          128   \n1             NaN  No Designation               No Designation   \n2       2,731,571          29,113                       23,757   \n3       2,615,060          30,279                       21,988   \n4           4.50%          -3.90%                        8.00%   \n\n        Alderwood           Annex Banbury-Don Mills           ...            \\\n0              20              95                42           ...             \n1  No Designation  No Designation    No Designation           ...             \n2          12,054          30,526            27,695           ...             \n3          11,904          29,177            26,918           ...             \n4           1.30%           4.60%             2.90%           ...             \n\n  Willowdale West Willowridge-Martingrove-Richview  Woburn Woodbine Corridor  \\\n0              37                                7     137                64   \n1  No Designation                   No Designation     NIA    No Designation   \n2          16,936                           22,156  53,485            12,541   \n3          15,004                           21,343  53,350            11,703   \n4          12.90%                            3.80%   0.30%             7.20%   \n\n  Woodbine-Lumsden        Wychwood  Yonge-Eglinton  Yonge-St.Clair  \\\n0               60              94             100              97   \n1   No Designation  No Designation  No Designation  No Designation   \n2            7,865          14,349          11,817          12,528   \n3            7,826          13,986          10,578          11,652   \n4            0.50%           2.60%          11.70%           7.50%   \n\n  York University Heights      Yorkdale-Glen Park  \n0                      27                      31  \n1                     NIA  Emerging Neighbourhood  \n2                  27,593                  14,804  \n3                  27,713                  14,687  \n4                  -0.40%                   0.80%  \n\n[5 rows x 145 columns]", 
                        "text/html": "<div>\n<style scoped>\n    .dataframe tbody tr th:only-of-type {\n        vertical-align: middle;\n    }\n\n    .dataframe tbody tr th {\n        vertical-align: top;\n    }\n\n    .dataframe thead th {\n        text-align: right;\n    }\n</style>\n<table border=\"1\" class=\"dataframe\">\n  <thead>\n    <tr style=\"text-align: right;\">\n      <th></th>\n      <th>Category</th>\n      <th>Topic</th>\n      <th>Data Source</th>\n      <th>Characteristic</th>\n      <th>City of Toronto</th>\n      <th>Agincourt North</th>\n      <th>Agincourt South-Malvern West</th>\n      <th>Alderwood</th>\n      <th>Annex</th>\n      <th>Banbury-Don Mills</th>\n      <th>...</th>\n      <th>Willowdale West</th>\n      <th>Willowridge-Martingrove-Richview</th>\n      <th>Woburn</th>\n      <th>Woodbine Corridor</th>\n      <th>Woodbine-Lumsden</th>\n      <th>Wychwood</th>\n      <th>Yonge-Eglinton</th>\n      <th>Yonge-St.Clair</th>\n      <th>York University Heights</th>\n      <th>Yorkdale-Glen Park</th>\n    </tr>\n  </thead>\n  <tbody>\n    <tr>\n      <th>0</th>\n      <td>Neighbourhood Information</td>\n      <td>Neighbourhood Information</td>\n      <td>City of Toronto</td>\n      <td>Neighbourhood Number</td>\n      <td>NaN</td>\n      <td>129</td>\n      <td>128</td>\n      <td>20</td>\n      <td>95</td>\n      <td>42</td>\n      <td>...</td>\n      <td>37</td>\n      <td>7</td>\n      <td>137</td>\n      <td>64</td>\n      <td>60</td>\n      <td>94</td>\n      <td>100</td>\n      <td>97</td>\n      <td>27</td>\n      <td>31</td>\n    </tr>\n    <tr>\n      <th>1</th>\n      <td>Neighbourhood Information</td>\n      <td>Neighbourhood Information</td>\n      <td>City of Toronto</td>\n      <td>TSNS2020 Designation</td>\n      <td>NaN</td>\n      <td>No Designation</td>\n      <td>No Designation</td>\n      <td>No Designation</td>\n      <td>No Designation</td>\n      <td>No Designation</td>\n      <td>...</td>\n      <td>No Designation</td>\n      <td>No Designation</td>\n      <td>NIA</td>\n      <td>No Designation</td>\n      <td>No Designation</td>\n      <td>No Designation</td>\n      <td>No Designation</td>\n      <td>No Designation</td>\n      <td>NIA</td>\n      <td>Emerging Neighbourhood</td>\n    </tr>\n    <tr>\n      <th>2</th>\n      <td>Population</td>\n      <td>Population and dwellings</td>\n      <td>Census Profile 98-316-X2016001</td>\n      <td>Population, 2016</td>\n      <td>2,731,571</td>\n      <td>29,113</td>\n      <td>23,757</td>\n      <td>12,054</td>\n      <td>30,526</td>\n      <td>27,695</td>\n      <td>...</td>\n      <td>16,936</td>\n      <td>22,156</td>\n      <td>53,485</td>\n      <td>12,541</td>\n      <td>7,865</td>\n      <td>14,349</td>\n      <td>11,817</td>\n      <td>12,528</td>\n      <td>27,593</td>\n      <td>14,804</td>\n    </tr>\n    <tr>\n      <th>3</th>\n      <td>Population</td>\n      <td>Population and dwellings</td>\n      <td>Census Profile 98-316-X2016001</td>\n      <td>Population, 2011</td>\n      <td>2,615,060</td>\n      <td>30,279</td>\n      <td>21,988</td>\n      <td>11,904</td>\n      <td>29,177</td>\n      <td>26,918</td>\n      <td>...</td>\n      <td>15,004</td>\n      <td>21,343</td>\n      <td>53,350</td>\n      <td>11,703</td>\n      <td>7,826</td>\n      <td>13,986</td>\n      <td>10,578</td>\n      <td>11,652</td>\n      <td>27,713</td>\n      <td>14,687</td>\n    </tr>\n    <tr>\n      <th>4</th>\n      <td>Population</td>\n      <td>Population and dwellings</td>\n      <td>Census Profile 98-316-X2016001</td>\n      <td>Population Change 2011-2016</td>\n      <td>4.50%</td>\n      <td>-3.90%</td>\n      <td>8.00%</td>\n      <td>1.30%</td>\n      <td>4.60%</td>\n      <td>2.90%</td>\n      <td>...</td>\n      <td>12.90%</td>\n      <td>3.80%</td>\n      <td>0.30%</td>\n      <td>7.20%</td>\n      <td>0.50%</td>\n      <td>2.60%</td>\n      <td>11.70%</td>\n      <td>7.50%</td>\n      <td>-0.40%</td>\n      <td>0.80%</td>\n    </tr>\n  </tbody>\n</table>\n<p>5 rows \u00d7 145 columns</p>\n</div>"
                    }, 
                    "execution_count": 7, 
                    "metadata": {}
                }
            ], 
            "execution_count": 7
        }, 
        {
            "source": "### __After reviewing the data, create a list of neighbordhoods in Toronto__", 
            "cell_type": "markdown", 
            "metadata": {}
        }, 
        {
            "source": "neighborhoods = list(df.columns.values)\nneighborhoods = neighborhoods[5:]\nprint(neighborhoods)", 
            "cell_type": "code", 
            "metadata": {}, 
            "outputs": [
                {
                    "output_type": "stream", 
                    "name": "stdout", 
                    "text": "['Agincourt North', 'Agincourt South-Malvern West', 'Alderwood', 'Annex', 'Banbury-Don Mills', 'Bathurst Manor', 'Bay Street Corridor', 'Bayview Village', 'Bayview Woods-Steeles', 'Bedford Park-Nortown', 'Beechborough-Greenbrook', 'Bendale', 'Birchcliffe-Cliffside', 'Black Creek', 'Blake-Jones', 'Briar Hill-Belgravia', 'Bridle Path-Sunnybrook-York Mills', 'Broadview North', 'Brookhaven-Amesbury', 'Cabbagetown-South St. James Town', 'Caledonia-Fairbank', 'Casa Loma', 'Centennial Scarborough', 'Church-Yonge Corridor', 'Clairlea-Birchmount', 'Clanton Park', 'Cliffcrest', 'Corso Italia-Davenport', 'Danforth', 'Danforth East York', 'Don Valley Village', 'Dorset Park', 'Dovercourt-Wallace Emerson-Junction', 'Downsview-Roding-CFB', 'Dufferin Grove', 'East End-Danforth', 'Edenbridge-Humber Valley', 'Eglinton East', 'Elms-Old Rexdale', 'Englemount-Lawrence', 'Eringate-Centennial-West Deane', 'Etobicoke West Mall', 'Flemingdon Park', 'Forest Hill North', 'Forest Hill South', 'Glenfield-Jane Heights', 'Greenwood-Coxwell', 'Guildwood', 'Henry Farm', 'High Park North', 'High Park-Swansea', 'Highland Creek', 'Hillcrest Village', 'Humber Heights-Westmount', 'Humber Summit', 'Humbermede', 'Humewood-Cedarvale', 'Ionview', 'Islington-City Centre West', 'Junction Area', 'Keelesdale-Eglinton West', 'Kennedy Park', 'Kensington-Chinatown', 'Kingsview Village-The Westway', 'Kingsway South', 'Lambton Baby Point', \"L'Amoreaux\", 'Lansing-Westgate', 'Lawrence Park North', 'Lawrence Park South', 'Leaside-Bennington', 'Little Portugal', 'Long Branch', 'Malvern', 'Maple Leaf', 'Markland Wood', 'Milliken', 'Mimico (includes Humber Bay Shores)', 'Morningside', 'Moss Park', 'Mount Dennis', 'Mount Olive-Silverstone-Jamestown', 'Mount Pleasant East', 'Mount Pleasant West', 'New Toronto', 'Newtonbrook East', 'Newtonbrook West', 'Niagara', 'North Riverdale', 'North St. James Town', 'Oakridge', 'Oakwood Village', \"O'Connor-Parkview\", 'Old East York', 'Palmerston-Little Italy', 'Parkwoods-Donalda', 'Pelmo Park-Humberlea', 'Playter Estates-Danforth', 'Pleasant View', 'Princess-Rosethorn', 'Regent Park', 'Rexdale-Kipling', 'Rockcliffe-Smythe', 'Roncesvalles', 'Rosedale-Moore Park', 'Rouge', 'Runnymede-Bloor West Village', 'Rustic', 'Scarborough Village', 'South Parkdale', 'South Riverdale', 'St.Andrew-Windfields', 'Steeles', 'Stonegate-Queensway', \"Tam O'Shanter-Sullivan\", 'Taylor-Massey', 'The Beaches', 'Thistletown-Beaumond Heights', 'Thorncliffe Park', 'Trinity-Bellwoods', 'University', 'Victoria Village', 'Waterfront Communities-The Island', 'West Hill', 'West Humber-Clairville', 'Westminster-Branson', 'Weston', 'Weston-Pelham Park', 'Wexford/Maryvale', 'Willowdale East', 'Willowdale West', 'Willowridge-Martingrove-Richview', 'Woburn', 'Woodbine Corridor', 'Woodbine-Lumsden', 'Wychwood', 'Yonge-Eglinton', 'Yonge-St.Clair', 'York University Heights', 'Yorkdale-Glen Park']\n"
                }
            ], 
            "execution_count": 11
        }, 
        {
            "source": "### __Create dataframe idexing the neighborhoods of Toronto and populate the dataframe with necessary data__", 
            "cell_type": "markdown", 
            "metadata": {}
        }, 
        {
            "source": "toronto_hoods = pd.DataFrame(index=Neighborhoods, columns=[\"population\", \"population_change\", \"population_density\", \"household_size\", \"after_tax_income\"])\n\n# population = Population 2016 per Census Profile 98-316-X2016001\n# population_change = Population Change 2011-2016\n# population_density = Population density per square kilometre\n# houselhold_size =  Average household size\n# after_tax_income =   After-tax income: Average amount ($)\n\nfor index, row in toronto_hoods.iterrows():\n    toronto_hoods.at[index, 'population'] = df[index][2]\n    toronto_hoods.at[index, 'population_change'] = df[index][4]\n    toronto_hoods.at[index, 'population_density'] = df[index][11]\n    toronto_hoods.at[index, 'household_size'] = df[index][74]\n    toronto_hoods.at[index, 'after_tax_income'] = df[index][2354]\ntoronto_hoods.head()", 
            "cell_type": "code", 
            "metadata": {}, 
            "outputs": [
                {
                    "output_type": "execute_result", 
                    "data": {
                        "text/plain": "                             population population_change population_density  \\\nAgincourt North                  29,113            -3.90%             11,305   \nAgincourt South-Malvern West     23,757             8.00%              9,965   \nAlderwood                        12,054             1.30%              5,220   \nAnnex                            30,526             4.60%             15,040   \nBanbury-Don Mills                27,695             2.90%             10,810   \n\n                             household_size after_tax_income  \nAgincourt North                        3.16           26,955  \nAgincourt South-Malvern West           2.88           27,928  \nAlderwood                               2.6           39,159  \nAnnex                                   1.8           80,138  \nBanbury-Don Mills                      2.23           51,874  ", 
                        "text/html": "<div>\n<style scoped>\n    .dataframe tbody tr th:only-of-type {\n        vertical-align: middle;\n    }\n\n    .dataframe tbody tr th {\n        vertical-align: top;\n    }\n\n    .dataframe thead th {\n        text-align: right;\n    }\n</style>\n<table border=\"1\" class=\"dataframe\">\n  <thead>\n    <tr style=\"text-align: right;\">\n      <th></th>\n      <th>population</th>\n      <th>population_change</th>\n      <th>population_density</th>\n      <th>household_size</th>\n      <th>after_tax_income</th>\n    </tr>\n  </thead>\n  <tbody>\n    <tr>\n      <th>Agincourt North</th>\n      <td>29,113</td>\n      <td>-3.90%</td>\n      <td>11,305</td>\n      <td>3.16</td>\n      <td>26,955</td>\n    </tr>\n    <tr>\n      <th>Agincourt South-Malvern West</th>\n      <td>23,757</td>\n      <td>8.00%</td>\n      <td>9,965</td>\n      <td>2.88</td>\n      <td>27,928</td>\n    </tr>\n    <tr>\n      <th>Alderwood</th>\n      <td>12,054</td>\n      <td>1.30%</td>\n      <td>5,220</td>\n      <td>2.6</td>\n      <td>39,159</td>\n    </tr>\n    <tr>\n      <th>Annex</th>\n      <td>30,526</td>\n      <td>4.60%</td>\n      <td>15,040</td>\n      <td>1.8</td>\n      <td>80,138</td>\n    </tr>\n    <tr>\n      <th>Banbury-Don Mills</th>\n      <td>27,695</td>\n      <td>2.90%</td>\n      <td>10,810</td>\n      <td>2.23</td>\n      <td>51,874</td>\n    </tr>\n  </tbody>\n</table>\n</div>"
                    }, 
                    "execution_count": 12, 
                    "metadata": {}
                }
            ], 
            "execution_count": 12
        }, 
        {
            "source": "", 
            "cell_type": "code", 
            "metadata": {}, 
            "outputs": [], 
            "execution_count": null
        }
    ], 
    "metadata": {
        "kernelspec": {
            "display_name": "Python 3.5", 
            "name": "python3", 
            "language": "python"
        }, 
        "language_info": {
            "mimetype": "text/x-python", 
            "nbconvert_exporter": "python", 
            "version": "3.5.5", 
            "name": "python", 
            "file_extension": ".py", 
            "pygments_lexer": "ipython3", 
            "codemirror_mode": {
                "version": 3, 
                "name": "ipython"
            }
        }
    }, 
    "nbformat": 4
}